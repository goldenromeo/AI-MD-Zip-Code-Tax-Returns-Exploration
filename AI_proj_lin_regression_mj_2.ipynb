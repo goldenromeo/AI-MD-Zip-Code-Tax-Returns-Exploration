{
 "cells": [
  {
   "cell_type": "code",
   "execution_count": 28,
   "metadata": {
    "collapsed": false
   },
   "outputs": [],
   "source": [
    "import pandas as pd\n",
    "import numpy as np\n",
    "import matplotlib.pyplot as plt\n",
    "from scipy import stats"
   ]
  },
  {
   "cell_type": "code",
   "execution_count": 281,
   "metadata": {
    "collapsed": false
   },
   "outputs": [],
   "source": [
    "df = pd.read_csv(\"year_data.csv\")\n",
    "#df"
   ]
  },
  {
   "cell_type": "code",
   "execution_count": 274,
   "metadata": {
    "collapsed": false
   },
   "outputs": [],
   "source": [
    "# !!!change zip code manually hear!!! \n",
    "zip_code = \"21921\"\n",
    "year = df[zip_code]"
   ]
  },
  {
   "cell_type": "code",
   "execution_count": 275,
   "metadata": {
    "collapsed": false
   },
   "outputs": [],
   "source": [
    "#plt.plot(df[\"zip_code\"], year, 'ro')"
   ]
  },
  {
   "cell_type": "code",
   "execution_count": 276,
   "metadata": {
    "collapsed": false
   },
   "outputs": [],
   "source": [
    "x = np.arange(len(df))\n",
    "#print(np.arange(len(df)))\n",
    "#xi = df[\"zip_code\"]"
   ]
  },
  {
   "cell_type": "code",
   "execution_count": 277,
   "metadata": {
    "collapsed": false
   },
   "outputs": [
    {
     "data": {
      "text/plain": [
       "[<matplotlib.lines.Line2D at 0x19915f73ba8>]"
      ]
     },
     "execution_count": 277,
     "metadata": {},
     "output_type": "execute_result"
    }
   ],
   "source": [
    "slope, intercept, r_value, p_value, std_err = stats.linregress(x, year)\n",
    "line1 = intercept + slope*x\n",
    "plt.plot(line1,'r-')"
   ]
  },
  {
   "cell_type": "code",
   "execution_count": 282,
   "metadata": {
    "collapsed": false
   },
   "outputs": [
    {
     "data": {
      "image/png": "[encoded data removed]",
      "text/plain": [
       "<matplotlib.figure.Figure at 0x19915fba0b8>"
      ]
     },
     "metadata": {},
     "output_type": "display_data"
    },
    {
     "name": "stdout",
     "output_type": "stream",
     "text": [
      "[  9.34091237e-01   8.72526439e-01   2.57728239e-05]\n",
      "5545.9960613\n"
     ]
    }
   ],
   "source": [
    "x_labels = df[\"zip_code\"]\n",
    "\n",
    "slope, intercept, r_value, p_value, std_err = stats.linregress(x, year)\n",
    "line1 = intercept + slope*x\n",
    "\n",
    "plt.plot(x,  year, 'ro')\n",
    "plt.xticks (x, x_labels)\n",
    "plt.subplots_adjust(bottom=0.15)\n",
    "plt.plot(line1,'r-')\n",
    "plt.show()\n",
    "data = np.array(r_value)\n",
    "data = np.append(data, r_value**2)\n",
    "data = np.append(data, p_value)\n",
    "print(data)"
   ]
  },
  {
   "cell_type": "code",
   "execution_count": 280,
   "metadata": {
    "collapsed": false
   },
   "outputs": [
    {
     "name": "stdout",
     "output_type": "stream",
     "text": [
      "willing to predict year : 2020\n",
      "ZIP CODE :  21921\n",
      "Predicted income :  88682418.6818\n"
     ]
    }
   ],
   "source": [
    "user_year = int(input(\"willing to predict year : \"))\n",
    "print(\"ZIP CODE : \", zip_code)\n",
    "print(\"Predicted income : \", (user_year*slope) + intercept)"
   ]
  },
  {
   "cell_type": "code",
   "execution_count": 214,
   "metadata": {
    "collapsed": false
   },
   "outputs": [],
   "source": [
    "#print(r_value)"
   ]
  },
  {
   "cell_type": "code",
   "execution_count": 215,
   "metadata": {
    "collapsed": false
   },
   "outputs": [],
   "source": [
    "#print(r_value**2)\n",
    "#sqr_r = r_value**2"
   ]
  },
  {
   "cell_type": "code",
   "execution_count": 216,
   "metadata": {
    "collapsed": false
   },
   "outputs": [],
   "source": [
    "#print(p_value)"
   ]
  },
  {
   "cell_type": "code",
   "execution_count": 264,
   "metadata": {
    "collapsed": false
   },
   "outputs": [
    {
     "name": "stdout",
     "output_type": "stream",
     "text": [
      "54204157.0455\n"
     ]
    }
   ],
   "source": [
    "#print(2100*slope + intercept)"
   ]
  },
  {
   "cell_type": "code",
   "execution_count": 213,
   "metadata": {
    "collapsed": false
   },
   "outputs": [],
   "source": [
    "#data_list = []\n",
    "#data_list.append(r_value)\n",
    "#data_list.append(r_value**2)\n",
    "#data_list.append(p_value)\n",
    "#print(data_list)\n",
    "#data = np.array(r_value)\n",
    "#data = np.append(data, r_value**2)\n",
    "#data = np.append(data, p_value)\n",
    "#print(data)"
   ]
  },
  {
   "cell_type": "code",
   "execution_count": 207,
   "metadata": {
    "collapsed": false
   },
   "outputs": [],
   "source": [
    "#print(df.ix[0, \"0\":\"21921\"])\n",
    "#df.loc[\"zip_code\":]"
   ]
  },
  {
   "cell_type": "code",
   "execution_count": 205,
   "metadata": {
    "collapsed": false,
    "scrolled": true
   },
   "outputs": [],
   "source": [
    "#new_df = pd.DataFrame()\n",
    "#columns = [\"r_value\", \"r_value**2\", \"p_value\"]\n",
    "#index = df.loc[\"zip_code\":]\n",
    "#new_df = pd.DataFrame(data, index=index, columns=columns)"
   ]
  }
 ],
 "metadata": {
  "anaconda-cloud": {},
  "kernelspec": {
   "display_name": "Python [conda root]",
   "language": "python",
   "name": "conda-root-py"
  },
  "language_info": {
   "codemirror_mode": {
    "name": "ipython",
    "version": 3
   },
   "file_extension": ".py",
   "mimetype": "text/x-python",
   "name": "python",
   "nbconvert_exporter": "python",
   "pygments_lexer": "ipython3",
   "version": "3.5.2"
  }
 },
 "nbformat": 4,
 "nbformat_minor": 1
}
