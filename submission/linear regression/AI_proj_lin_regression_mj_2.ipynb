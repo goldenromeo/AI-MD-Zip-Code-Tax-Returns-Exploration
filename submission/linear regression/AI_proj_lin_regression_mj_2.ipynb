{
 "cells": [
  {
   "cell_type": "code",
   "execution_count": 21,
   "metadata": {
    "collapsed": false
   },
   "outputs": [],
   "source": [
    "import pandas as pd\n",
    "import numpy as np\n",
    "import matplotlib.pyplot as plt\n",
    "from scipy import stats"
   ]
  },
  {
   "cell_type": "code",
   "execution_count": 22,
   "metadata": {
    "collapsed": false
   },
   "outputs": [
    {
     "data": {
      "text/html": [
       "<div>\n",
       "<table border=\"1\" class=\"dataframe\">\n",
       "  <thead>\n",
       "    <tr style=\"text-align: right;\">\n",
       "      <th></th>\n",
       "      <th>﻿zip_code</th>\n",
       "      <th>0</th>\n",
       "      <th>20601</th>\n",
       "      <th>20602</th>\n",
       "      <th>20603</th>\n",
       "      <th>20606</th>\n",
       "      <th>20607</th>\n",
       "      <th>20608</th>\n",
       "      <th>20609</th>\n",
       "      <th>20611</th>\n",
       "      <th>...</th>\n",
       "      <th>21901</th>\n",
       "      <th>21903</th>\n",
       "      <th>21904</th>\n",
       "      <th>21911</th>\n",
       "      <th>21912</th>\n",
       "      <th>21915</th>\n",
       "      <th>21917</th>\n",
       "      <th>21918</th>\n",
       "      <th>21919</th>\n",
       "      <th>21921</th>\n",
       "    </tr>\n",
       "  </thead>\n",
       "  <tbody>\n",
       "    <tr>\n",
       "      <th>0</th>\n",
       "      <td>1998</td>\n",
       "      <td>116614285</td>\n",
       "      <td>433388</td>\n",
       "      <td>348017</td>\n",
       "      <td>431102</td>\n",
       "      <td>6121</td>\n",
       "      <td>165562</td>\n",
       "      <td>15968</td>\n",
       "      <td>18323</td>\n",
       "      <td>21718</td>\n",
       "      <td>...</td>\n",
       "      <td>215434</td>\n",
       "      <td>84648</td>\n",
       "      <td>99259</td>\n",
       "      <td>149118</td>\n",
       "      <td>23015</td>\n",
       "      <td>71780</td>\n",
       "      <td>36221</td>\n",
       "      <td>69035</td>\n",
       "      <td>46187</td>\n",
       "      <td>640150</td>\n",
       "    </tr>\n",
       "    <tr>\n",
       "      <th>1</th>\n",
       "      <td>2001</td>\n",
       "      <td>136235786</td>\n",
       "      <td>528943</td>\n",
       "      <td>397740</td>\n",
       "      <td>563126</td>\n",
       "      <td>6872</td>\n",
       "      <td>207530</td>\n",
       "      <td>18336</td>\n",
       "      <td>22617</td>\n",
       "      <td>26359</td>\n",
       "      <td>...</td>\n",
       "      <td>251219</td>\n",
       "      <td>102271</td>\n",
       "      <td>117749</td>\n",
       "      <td>176519</td>\n",
       "      <td>27392</td>\n",
       "      <td>75753</td>\n",
       "      <td>33800</td>\n",
       "      <td>77816</td>\n",
       "      <td>56785</td>\n",
       "      <td>773832</td>\n",
       "    </tr>\n",
       "    <tr>\n",
       "      <th>2</th>\n",
       "      <td>2004</td>\n",
       "      <td>155654521</td>\n",
       "      <td>612853</td>\n",
       "      <td>462102</td>\n",
       "      <td>661844</td>\n",
       "      <td>7591</td>\n",
       "      <td>283660</td>\n",
       "      <td>21330</td>\n",
       "      <td>23921</td>\n",
       "      <td>34491</td>\n",
       "      <td>...</td>\n",
       "      <td>314117</td>\n",
       "      <td>123299</td>\n",
       "      <td>152562</td>\n",
       "      <td>220517</td>\n",
       "      <td>37059</td>\n",
       "      <td>87693</td>\n",
       "      <td>59940</td>\n",
       "      <td>88761</td>\n",
       "      <td>64088</td>\n",
       "      <td>875181</td>\n",
       "    </tr>\n",
       "    <tr>\n",
       "      <th>3</th>\n",
       "      <td>2005</td>\n",
       "      <td>166297995</td>\n",
       "      <td>645439</td>\n",
       "      <td>475835</td>\n",
       "      <td>702277</td>\n",
       "      <td>8517</td>\n",
       "      <td>301893</td>\n",
       "      <td>21669</td>\n",
       "      <td>25532</td>\n",
       "      <td>36202</td>\n",
       "      <td>...</td>\n",
       "      <td>342824</td>\n",
       "      <td>135588</td>\n",
       "      <td>157865</td>\n",
       "      <td>243914</td>\n",
       "      <td>42313</td>\n",
       "      <td>87578</td>\n",
       "      <td>62720</td>\n",
       "      <td>93859</td>\n",
       "      <td>69661</td>\n",
       "      <td>939406</td>\n",
       "    </tr>\n",
       "    <tr>\n",
       "      <th>4</th>\n",
       "      <td>2006</td>\n",
       "      <td>177136975</td>\n",
       "      <td>668446</td>\n",
       "      <td>509938</td>\n",
       "      <td>757255</td>\n",
       "      <td>7867</td>\n",
       "      <td>315711</td>\n",
       "      <td>25159</td>\n",
       "      <td>28695</td>\n",
       "      <td>31797</td>\n",
       "      <td>...</td>\n",
       "      <td>369880</td>\n",
       "      <td>139014</td>\n",
       "      <td>166892</td>\n",
       "      <td>251592</td>\n",
       "      <td>35374</td>\n",
       "      <td>100443</td>\n",
       "      <td>65356</td>\n",
       "      <td>95941</td>\n",
       "      <td>76522</td>\n",
       "      <td>967131</td>\n",
       "    </tr>\n",
       "    <tr>\n",
       "      <th>5</th>\n",
       "      <td>2007</td>\n",
       "      <td>190616115</td>\n",
       "      <td>703397</td>\n",
       "      <td>547553</td>\n",
       "      <td>819105</td>\n",
       "      <td>8675</td>\n",
       "      <td>346189</td>\n",
       "      <td>26349</td>\n",
       "      <td>31472</td>\n",
       "      <td>33469</td>\n",
       "      <td>...</td>\n",
       "      <td>395251</td>\n",
       "      <td>156814</td>\n",
       "      <td>172198</td>\n",
       "      <td>274608</td>\n",
       "      <td>38670</td>\n",
       "      <td>106057</td>\n",
       "      <td>69265</td>\n",
       "      <td>103867</td>\n",
       "      <td>88312</td>\n",
       "      <td>1051158</td>\n",
       "    </tr>\n",
       "    <tr>\n",
       "      <th>6</th>\n",
       "      <td>2010</td>\n",
       "      <td>189470912</td>\n",
       "      <td>758051</td>\n",
       "      <td>639590</td>\n",
       "      <td>959395</td>\n",
       "      <td>9375</td>\n",
       "      <td>411954</td>\n",
       "      <td>26895</td>\n",
       "      <td>33827</td>\n",
       "      <td>35928</td>\n",
       "      <td>...</td>\n",
       "      <td>415050</td>\n",
       "      <td>155820</td>\n",
       "      <td>182151</td>\n",
       "      <td>271204</td>\n",
       "      <td>36542</td>\n",
       "      <td>110642</td>\n",
       "      <td>69401</td>\n",
       "      <td>106972</td>\n",
       "      <td>75672</td>\n",
       "      <td>1045134</td>\n",
       "    </tr>\n",
       "    <tr>\n",
       "      <th>7</th>\n",
       "      <td>2011</td>\n",
       "      <td>196896143</td>\n",
       "      <td>768656</td>\n",
       "      <td>667192</td>\n",
       "      <td>988711</td>\n",
       "      <td>9799</td>\n",
       "      <td>434862</td>\n",
       "      <td>26729</td>\n",
       "      <td>32964</td>\n",
       "      <td>36699</td>\n",
       "      <td>...</td>\n",
       "      <td>433326</td>\n",
       "      <td>158862</td>\n",
       "      <td>188624</td>\n",
       "      <td>275816</td>\n",
       "      <td>41977</td>\n",
       "      <td>110810</td>\n",
       "      <td>69635</td>\n",
       "      <td>110540</td>\n",
       "      <td>76440</td>\n",
       "      <td>1054146</td>\n",
       "    </tr>\n",
       "    <tr>\n",
       "      <th>8</th>\n",
       "      <td>2012</td>\n",
       "      <td>205576901</td>\n",
       "      <td>781967</td>\n",
       "      <td>686028</td>\n",
       "      <td>1013756</td>\n",
       "      <td>9224</td>\n",
       "      <td>448623</td>\n",
       "      <td>27064</td>\n",
       "      <td>34493</td>\n",
       "      <td>36236</td>\n",
       "      <td>...</td>\n",
       "      <td>453189</td>\n",
       "      <td>158322</td>\n",
       "      <td>191063</td>\n",
       "      <td>280642</td>\n",
       "      <td>38910</td>\n",
       "      <td>113866</td>\n",
       "      <td>72294</td>\n",
       "      <td>112817</td>\n",
       "      <td>79223</td>\n",
       "      <td>1089598</td>\n",
       "    </tr>\n",
       "    <tr>\n",
       "      <th>9</th>\n",
       "      <td>2013</td>\n",
       "      <td>205257793</td>\n",
       "      <td>787861</td>\n",
       "      <td>695227</td>\n",
       "      <td>1044704</td>\n",
       "      <td>9282</td>\n",
       "      <td>460857</td>\n",
       "      <td>26294</td>\n",
       "      <td>33481</td>\n",
       "      <td>33992</td>\n",
       "      <td>...</td>\n",
       "      <td>459836</td>\n",
       "      <td>157822</td>\n",
       "      <td>192986</td>\n",
       "      <td>277730</td>\n",
       "      <td>37537</td>\n",
       "      <td>117779</td>\n",
       "      <td>72187</td>\n",
       "      <td>112574</td>\n",
       "      <td>81639</td>\n",
       "      <td>1104261</td>\n",
       "    </tr>\n",
       "    <tr>\n",
       "      <th>10</th>\n",
       "      <td>2014</td>\n",
       "      <td>214772916</td>\n",
       "      <td>811719</td>\n",
       "      <td>725015</td>\n",
       "      <td>1075789</td>\n",
       "      <td>9252</td>\n",
       "      <td>477009</td>\n",
       "      <td>25119</td>\n",
       "      <td>36898</td>\n",
       "      <td>36019</td>\n",
       "      <td>...</td>\n",
       "      <td>485123</td>\n",
       "      <td>159440</td>\n",
       "      <td>205787</td>\n",
       "      <td>289015</td>\n",
       "      <td>40238</td>\n",
       "      <td>108390</td>\n",
       "      <td>74241</td>\n",
       "      <td>116352</td>\n",
       "      <td>81703</td>\n",
       "      <td>1143301</td>\n",
       "    </tr>\n",
       "  </tbody>\n",
       "</table>\n",
       "<p>11 rows × 404 columns</p>\n",
       "</div>"
      ],
      "text/plain": [
       "    ﻿zip_code          0   20601   20602    20603  20606   20607  20608  \\\n",
       "0        1998  116614285  433388  348017   431102   6121  165562  15968   \n",
       "1        2001  136235786  528943  397740   563126   6872  207530  18336   \n",
       "2        2004  155654521  612853  462102   661844   7591  283660  21330   \n",
       "3        2005  166297995  645439  475835   702277   8517  301893  21669   \n",
       "4        2006  177136975  668446  509938   757255   7867  315711  25159   \n",
       "5        2007  190616115  703397  547553   819105   8675  346189  26349   \n",
       "6        2010  189470912  758051  639590   959395   9375  411954  26895   \n",
       "7        2011  196896143  768656  667192   988711   9799  434862  26729   \n",
       "8        2012  205576901  781967  686028  1013756   9224  448623  27064   \n",
       "9        2013  205257793  787861  695227  1044704   9282  460857  26294   \n",
       "10       2014  214772916  811719  725015  1075789   9252  477009  25119   \n",
       "\n",
       "    20609  20611   ...      21901   21903   21904   21911  21912   21915  \\\n",
       "0   18323  21718   ...     215434   84648   99259  149118  23015   71780   \n",
       "1   22617  26359   ...     251219  102271  117749  176519  27392   75753   \n",
       "2   23921  34491   ...     314117  123299  152562  220517  37059   87693   \n",
       "3   25532  36202   ...     342824  135588  157865  243914  42313   87578   \n",
       "4   28695  31797   ...     369880  139014  166892  251592  35374  100443   \n",
       "5   31472  33469   ...     395251  156814  172198  274608  38670  106057   \n",
       "6   33827  35928   ...     415050  155820  182151  271204  36542  110642   \n",
       "7   32964  36699   ...     433326  158862  188624  275816  41977  110810   \n",
       "8   34493  36236   ...     453189  158322  191063  280642  38910  113866   \n",
       "9   33481  33992   ...     459836  157822  192986  277730  37537  117779   \n",
       "10  36898  36019   ...     485123  159440  205787  289015  40238  108390   \n",
       "\n",
       "    21917   21918  21919    21921  \n",
       "0   36221   69035  46187   640150  \n",
       "1   33800   77816  56785   773832  \n",
       "2   59940   88761  64088   875181  \n",
       "3   62720   93859  69661   939406  \n",
       "4   65356   95941  76522   967131  \n",
       "5   69265  103867  88312  1051158  \n",
       "6   69401  106972  75672  1045134  \n",
       "7   69635  110540  76440  1054146  \n",
       "8   72294  112817  79223  1089598  \n",
       "9   72187  112574  81639  1104261  \n",
       "10  74241  116352  81703  1143301  \n",
       "\n",
       "[11 rows x 404 columns]"
      ]
     },
     "execution_count": 22,
     "metadata": {},
     "output_type": "execute_result"
    }
   ],
   "source": [
    "df = pd.read_csv(\"/Users/romeo/Desktop/471Finalattempt/refence/year_data.csv\")\n",
    "df"
   ]
  },
  {
   "cell_type": "code",
   "execution_count": 23,
   "metadata": {
    "collapsed": false
   },
   "outputs": [],
   "source": [
    "# !!!change zip code manually hear!!! \n",
    "zip_code = \"21921\"\n",
    "year = df[zip_code]"
   ]
  },
  {
   "cell_type": "code",
   "execution_count": 24,
   "metadata": {
    "collapsed": false
   },
   "outputs": [],
   "source": [
    "#plt.plot(df[\"zip_code\"], year, 'ro')"
   ]
  },
  {
   "cell_type": "code",
   "execution_count": 25,
   "metadata": {
    "collapsed": false
   },
   "outputs": [],
   "source": [
    "x = np.arange(len(df))\n",
    "#print(np.arange(len(df)))\n",
    "#xi = df[\"zip_code\"]"
   ]
  },
  {
   "cell_type": "code",
   "execution_count": 26,
   "metadata": {
    "collapsed": false
   },
   "outputs": [
    {
     "data": {
      "text/plain": [
       "0      640150\n",
       "1      773832\n",
       "2      875181\n",
       "3      939406\n",
       "4      967131\n",
       "5     1051158\n",
       "6     1045134\n",
       "7     1054146\n",
       "8     1089598\n",
       "9     1104261\n",
       "10    1143301\n",
       "Name: 21921, dtype: int64"
      ]
     },
     "execution_count": 26,
     "metadata": {},
     "output_type": "execute_result"
    }
   ],
   "source": [
    "df[zip_code]"
   ]
  },
  {
   "cell_type": "code",
   "execution_count": 27,
   "metadata": {
    "collapsed": false
   },
   "outputs": [
    {
     "data": {
      "text/plain": [
       "[<matplotlib.lines.Line2D at 0x117e3feb8>]"
      ]
     },
     "execution_count": 27,
     "metadata": {},
     "output_type": "execute_result"
    }
   ],
   "source": [
    "slope, intercept, r_value, p_value, std_err = stats.linregress(x, year)\n",
    "line1 = intercept + slope*x\n",
    "plt.plot(line1,'r-')"
   ]
  },
  {
   "cell_type": "code",
   "execution_count": 28,
   "metadata": {
    "collapsed": false
   },
   "outputs": [
    {
     "data": {
      "image/png": "[encoded data removed]",
      "text/plain": [
       "<matplotlib.figure.Figure at 0x117943470>"
      ]
     },
     "metadata": {},
     "output_type": "display_data"
    },
    {
     "name": "stdout",
     "output_type": "stream",
     "text": [
      "[  9.34091237e-01   8.72526439e-01   2.57728239e-05]\n"
     ]
    }
   ],
   "source": [
    "x_labels = df[zip_code]\n",
    "\n",
    "slope, intercept, r_value, p_value, std_err = stats.linregress(x, year)\n",
    "line1 = intercept + slope*x\n",
    "\n",
    "plt.plot(x,  year, 'ro')\n",
    "plt.xticks (x, x_labels)\n",
    "plt.subplots_adjust(bottom=0.15)\n",
    "plt.plot(line1,'r-')\n",
    "plt.show()\n",
    "data = np.array(r_value)\n",
    "data = np.append(data, r_value**2)\n",
    "data = np.append(data, p_value)\n",
    "print(data)"
   ]
  },
  {
   "cell_type": "code",
   "execution_count": 29,
   "metadata": {
    "collapsed": false
   },
   "outputs": [
    {
     "name": "stdout",
     "output_type": "stream",
     "text": [
      "willing to predict year : 200\n",
      "ZIP CODE :  21921\n",
      "Predicted income :  9459390.5\n"
     ]
    }
   ],
   "source": [
    "user_year = int(input(\"willing to predict year : \"))\n",
    "print(\"ZIP CODE : \", zip_code)\n",
    "print(\"Predicted income : \", (user_year*slope) + intercept)"
   ]
  },
  {
   "cell_type": "code",
   "execution_count": 30,
   "metadata": {
    "collapsed": false
   },
   "outputs": [],
   "source": [
    "#print(r_value)"
   ]
  },
  {
   "cell_type": "code",
   "execution_count": 31,
   "metadata": {
    "collapsed": false
   },
   "outputs": [],
   "source": [
    "#print(r_value**2)\n",
    "#sqr_r = r_value**2"
   ]
  },
  {
   "cell_type": "code",
   "execution_count": 32,
   "metadata": {
    "collapsed": false
   },
   "outputs": [],
   "source": [
    "#print(p_value)"
   ]
  },
  {
   "cell_type": "code",
   "execution_count": 33,
   "metadata": {
    "collapsed": false
   },
   "outputs": [],
   "source": [
    "#print(2100*slope + intercept)"
   ]
  },
  {
   "cell_type": "code",
   "execution_count": 34,
   "metadata": {
    "collapsed": false
   },
   "outputs": [],
   "source": [
    "#data_list = []\n",
    "#data_list.append(r_value)\n",
    "#data_list.append(r_value**2)\n",
    "#data_list.append(p_value)\n",
    "#print(data_list)\n",
    "#data = np.array(r_value)\n",
    "#data = np.append(data, r_value**2)\n",
    "#data = np.append(data, p_value)\n",
    "#print(data)"
   ]
  },
  {
   "cell_type": "code",
   "execution_count": 35,
   "metadata": {
    "collapsed": false
   },
   "outputs": [],
   "source": [
    "#print(df.ix[0, \"0\":\"21921\"])\n",
    "#df.loc[\"zip_code\":]"
   ]
  },
  {
   "cell_type": "code",
   "execution_count": 36,
   "metadata": {
    "collapsed": false,
    "scrolled": true
   },
   "outputs": [],
   "source": [
    "#new_df = pd.DataFrame()\n",
    "#columns = [\"r_value\", \"r_value**2\", \"p_value\"]\n",
    "#index = df.loc[\"zip_code\":]\n",
    "#new_df = pd.DataFrame(data, index=index, columns=columns)"
   ]
  },
  {
   "cell_type": "code",
   "execution_count": null,
   "metadata": {
    "collapsed": true
   },
   "outputs": [],
   "source": [
    "df[zip_code].to"
   ]
  },
  {
   "cell_type": "code",
   "execution_count": null,
   "metadata": {
    "collapsed": true
   },
   "outputs": [],
   "source": []
  },
  {
   "cell_type": "code",
   "execution_count": null,
   "metadata": {
    "collapsed": true
   },
   "outputs": [],
   "source": []
  }
 ],
 "metadata": {
  "anaconda-cloud": {},
  "kernelspec": {
   "display_name": "Python [conda root]",
   "language": "python",
   "name": "conda-root-py"
  },
  "language_info": {
   "codemirror_mode": {
    "name": "ipython",
    "version": 3
   },
   "file_extension": ".py",
   "mimetype": "text/x-python",
   "name": "python",
   "nbconvert_exporter": "python",
   "pygments_lexer": "ipython3",
   "version": "3.5.2"
  }
 },
 "nbformat": 4,
 "nbformat_minor": 1
}
